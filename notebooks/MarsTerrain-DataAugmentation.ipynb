{
 "cells": [
  {
   "cell_type": "markdown",
   "metadata": {},
   "source": [
    "# Set up"
   ]
  },
  {
   "cell_type": "code",
   "execution_count": null,
   "metadata": {
    "executionInfo": {
     "elapsed": 20484,
     "status": "ok",
     "timestamp": 1731593497070,
     "user": {
      "displayName": "Francesco Ostidich",
      "userId": "15729008217466679251"
     },
     "user_tz": -60
    },
    "id": "ro1qHUu5dxaX",
    "outputId": "e47074be-24f4-4138-f28a-3362c9c98cf1"
   },
   "outputs": [],
   "source": [
    "import tensorflow as tf\n",
    "import tensorflow.keras as tfk\n",
    "import numpy as np\n",
    "import random\n",
    "\n",
    "import augmentation as augh\n",
    "import plotter as plot\n",
    "import folding as fold\n",
    "\n",
    "print(\"Libraries have been imported\")"
   ]
  },
  {
   "cell_type": "markdown",
   "metadata": {},
   "source": [
    "# Dataset import "
   ]
  },
  {
   "cell_type": "code",
   "execution_count": null,
   "metadata": {},
   "outputs": [],
   "source": [
    "data = np.load(\"/kaggle/input/marsterrain-general/dataset_general.npz\")\n",
    "images = data['images']\n",
    "labels = data['labels']\n",
    "\n",
    "shuffled_indices = np.random.permutation(len(images))\n",
    "images = images[shuffled_indices]\n",
    "labels = labels[shuffled_indices]\n",
    "\n",
    "print(f\"Dataset: {images.dtype}{images.shape} - {labels.dtype}{labels.shape}\")"
   ]
  },
  {
   "cell_type": "markdown",
   "metadata": {},
   "source": [
    "# Example augmentation"
   ]
  },
  {
   "cell_type": "code",
   "execution_count": null,
   "metadata": {
    "executionInfo": {
     "elapsed": 1275,
     "status": "ok",
     "timestamp": 1731539083518,
     "user": {
      "displayName": "Francesco Ostidich",
      "userId": "15729008217466679251"
     },
     "user_tz": -60
    },
    "id": "aXQtrv4G2cJ0",
    "outputId": "c904eed3-59ce-4187-8471-d327b5635259"
   },
   "outputs": [],
   "source": [
    "i = random.randint(0, len(labels))\n",
    "print(f\"Augmenting image {i}\")\n",
    "\n",
    "augmented_image, augmented_mask = augh.masked_augment(images[i], labels[i])\n",
    "\n",
    "plot.plot_masked_image((images[i], labels[i]), (augmented_image, augmented_mask), mask_alpha=0.1)\n",
    "plot.plot_masked_image((images[i], labels[i]), (augmented_image, augmented_mask), mask_alpha=0)\n",
    "plot.plot_masked_image((images[i], labels[i]), (augmented_image, augmented_mask), mask_alpha=1)"
   ]
  },
  {
   "cell_type": "markdown",
   "metadata": {},
   "source": [
    "# Augment dataset"
   ]
  },
  {
   "cell_type": "code",
   "execution_count": null,
   "metadata": {},
   "outputs": [],
   "source": [
    "augmented_data = augh.augment_masked_set(data)"
   ]
  },
  {
   "cell_type": "markdown",
   "metadata": {},
   "source": [
    "# Show classes presence"
   ]
  },
  {
   "cell_type": "code",
   "execution_count": null,
   "metadata": {},
   "outputs": [],
   "source": [
    "print(f\"Total old images: {len(data['labels'])}\")\n",
    "print(f\"Total new images: {len(augmented_data['labels'])}\")\n",
    "\n",
    "v = []\n",
    "for label in labels:\n",
    "    v = np.append(v, np.unique(label))\n",
    "v = v.astype(int)\n",
    "counts = np.bincount(v)\n",
    "print(f\"Old classes counts: {counts}\")\n",
    "\n",
    "v = []\n",
    "for label in augmented_data['labels']:\n",
    "    v = np.append(v, np.unique(label))\n",
    "v = v.astype(int)\n",
    "counts = np.bincount(v)\n",
    "print(f\"New classes counts: {counts}\")"
   ]
  },
  {
   "cell_type": "markdown",
   "metadata": {},
   "source": [
    "# Export dataset"
   ]
  },
  {
   "cell_type": "code",
   "execution_count": null,
   "metadata": {
    "id": "WgV5URb5-v4b"
   },
   "outputs": [],
   "source": [
    "np.savez(\"dataset_enhanced.npz\", **augmented_data)"
   ]
  },
  {
   "cell_type": "markdown",
   "metadata": {},
   "source": [
    "# Print some images"
   ]
  },
  {
   "cell_type": "code",
   "execution_count": null,
   "metadata": {
    "executionInfo": {
     "elapsed": 6052,
     "status": "ok",
     "timestamp": 1731542505740,
     "user": {
      "displayName": "Francesco Ostidich",
      "userId": "15729008217466679251"
     },
     "user_tz": -60
    },
    "id": "fI-854M0Kbk0",
    "outputId": "622a37ee-7cc7-49c7-d745-79e61b56d166"
   },
   "outputs": [],
   "source": [
    "augmented_images = augmented_data['images']\n",
    "augmented_labels = augmented_data['labels']\n",
    "plot.plot_masked_images(augmented_images, augmented_labels, row=6)"
   ]
  },
  {
   "cell_type": "markdown",
   "metadata": {},
   "source": [
    "# Split dataset"
   ]
  },
  {
   "cell_type": "code",
   "execution_count": null,
   "metadata": {
    "id": "qEHc-oTyrJfa"
   },
   "outputs": [],
   "source": [
    "validation, training = fold.split_masked_set(augmented_data)"
   ]
  },
  {
   "cell_type": "markdown",
   "metadata": {},
   "source": [
    "# Print example images after split"
   ]
  },
  {
   "cell_type": "code",
   "execution_count": null,
   "metadata": {
    "executionInfo": {
     "elapsed": 21128,
     "status": "ok",
     "timestamp": 1731421812236,
     "user": {
      "displayName": "Francesco Ostidich",
      "userId": "15729008217466679251"
     },
     "user_tz": -60
    },
    "id": "hHBL1MbBjyp3",
    "outputId": "248c3241-0f5a-493f-a1fa-451032214b64"
   },
   "outputs": [],
   "source": [
    "print(\"VALIDATION\")\n",
    "plot.plot_masked_images(validation['images'], validation['labels'])\n",
    "print(\"TRAINING\")\n",
    "plot.plot_masked_images(training['images'], training['labels'])"
   ]
  }
 ],
 "metadata": {
  "colab": {
   "collapsed_sections": [
    "Bc-c_LWaGJYi"
   ],
   "provenance": []
  },
  "kaggle": {
   "accelerator": "none",
   "dataSources": [
    {
     "datasetId": 6230759,
     "sourceId": 10101849,
     "sourceType": "datasetVersion"
    },
    {
     "sourceId": 211071978,
     "sourceType": "kernelVersion"
    },
    {
     "sourceId": 211079960,
     "sourceType": "kernelVersion"
    },
    {
     "sourceId": 211947374,
     "sourceType": "kernelVersion"
    }
   ],
   "dockerImageVersionId": 30786,
   "isGpuEnabled": false,
   "isInternetEnabled": false,
   "language": "python",
   "sourceType": "notebook"
  },
  "kernelspec": {
   "display_name": "Python 3 (ipykernel)",
   "language": "python",
   "name": "python3"
  },
  "language_info": {
   "codemirror_mode": {
    "name": "ipython",
    "version": 3
   },
   "file_extension": ".py",
   "mimetype": "text/x-python",
   "name": "python",
   "nbconvert_exporter": "python",
   "pygments_lexer": "ipython3",
   "version": "3.13.2"
  }
 },
 "nbformat": 4,
 "nbformat_minor": 4
}
