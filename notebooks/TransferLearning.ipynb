{
 "cells": [
  {
   "cell_type": "markdown",
   "metadata": {
    "id": "B6No-KjqbPAb"
   },
   "source": [
    "# Imports"
   ]
  },
  {
   "cell_type": "code",
   "execution_count": null,
   "metadata": {
    "execution": {
     "iopub.execute_input": "2024-11-20T14:55:17.643314Z",
     "iopub.status.busy": "2024-11-20T14:55:17.642825Z",
     "iopub.status.idle": "2024-11-20T14:55:29.468773Z",
     "shell.execute_reply": "2024-11-20T14:55:29.467903Z",
     "shell.execute_reply.started": "2024-11-20T14:55:17.643278Z"
    },
    "executionInfo": {
     "elapsed": 9526,
     "status": "ok",
     "timestamp": 1731589505779,
     "user": {
      "displayName": "frank hosty",
      "userId": "03316752095098891997"
     },
     "user_tz": -60
    },
    "id": "ro1qHUu5dxaX"
   },
   "outputs": [],
   "source": [
    "import os\n",
    "import numpy as np\n",
    "from datetime import datetime\n",
    "import pytz\n",
    "os.environ['TF_CPP_MIN_LOG_LEVEL'] = '3'\n",
    "import tensorflow as tf\n",
    "from tensorflow import keras as tfk\n",
    "from tensorflow.keras import layers as tfkl\n",
    "from tensorflow.keras.callbacks import EarlyStopping, ModelCheckpoint\n",
    "from tensorflow.keras.optimizers import Lion\n",
    "from tensorflow.keras.models import load_model\n",
    "\n",
    "import folding as fold\n",
    "\n",
    "now = datetime.now(pytz.timezone(\"Europe/Rome\")).strftime(\"Day: %Y-%m-%d - Time: %H:%M:%S\\n\")\n",
    "print(f\"\\033[1;94m{now}\\033[0m\")"
   ]
  },
  {
   "cell_type": "markdown",
   "metadata": {},
   "source": [
    "# Dataset"
   ]
  },
  {
   "cell_type": "code",
   "execution_count": null,
   "metadata": {
    "execution": {
     "iopub.execute_input": "2024-11-20T14:55:52.676332Z",
     "iopub.status.busy": "2024-11-20T14:55:52.675780Z",
     "iopub.status.idle": "2024-11-20T14:56:02.570634Z",
     "shell.execute_reply": "2024-11-20T14:56:02.569692Z",
     "shell.execute_reply.started": "2024-11-20T14:55:52.676299Z"
    },
    "executionInfo": {
     "elapsed": 9695,
     "status": "ok",
     "timestamp": 1731589515458,
     "user": {
      "displayName": "frank hosty",
      "userId": "03316752095098891997"
     },
     "user_tz": -60
    },
    "id": "PDozi6kbui6l",
    "outputId": "9d7ce432-cf28-4a7c-bad3-190dc8910dfc"
   },
   "outputs": [],
   "source": [
    "now = datetime.now(pytz.timezone(\"Europe/Rome\")).strftime(\"Day: %Y-%m-%d - Time: %H:%M:%S\\n\")\n",
    "print(f\"\\033[1;94m{now}\\033[0m\")\n",
    "\n",
    "data = np.load(\"/kaggle/input/bloodcells-augmented/dataset_augmented.npz\")\n",
    "# data = np.load(\"/kaggle/input/bloodcells-maximisation/dataset_maximisation.npz\")\n",
    "test = np.load(\"/kaggle/input/bloodcells-evaluation/dataset_evaluation.npz\")\n",
    "\n",
    "images, labels = data['images'], data['labels']\n",
    "test_images, test_labels = test['images'], test['labels']"
   ]
  },
  {
   "cell_type": "markdown",
   "metadata": {
    "id": "e0jeEavoufw5"
   },
   "source": [
    "# Set model and parameters"
   ]
  },
  {
   "cell_type": "code",
   "execution_count": null,
   "metadata": {
    "execution": {
     "iopub.execute_input": "2024-11-20T16:25:56.272037Z",
     "iopub.status.busy": "2024-11-20T16:25:56.271375Z",
     "iopub.status.idle": "2024-11-20T16:25:56.284904Z",
     "shell.execute_reply": "2024-11-20T16:25:56.283280Z",
     "shell.execute_reply.started": "2024-11-20T16:25:56.271971Z"
    },
    "executionInfo": {
     "elapsed": 11,
     "status": "ok",
     "timestamp": 1731589564162,
     "user": {
      "displayName": "frank hosty",
      "userId": "03316752095098891997"
     },
     "user_tz": -60
    },
    "id": "WSc18YttuihR"
   },
   "outputs": [],
   "source": [
    "now = datetime.now(pytz.timezone(\"Europe/Rome\")).strftime(\"Day: %Y-%m-%d - Time: %H:%M:%S\\n\")\n",
    "print(f\"\\033[1;94m{now}\\033[0m\")\n",
    "\n",
    "# Trained model\n",
    "model_name = 'BrainRot'\n",
    "model_dir = \"\"\n",
    "\n",
    "# Base model\n",
    "base_model_type = tfk.applications.ConvNeXtSmall\n",
    "base_model_name = \"convnext_small\"\n",
    "neurons_first_dense_layer = 128\n",
    "neurons_second_dense_layer = 32\n",
    "\n",
    "# Pre-training parameters\n",
    "learning_rate_pretrain = 1e-4\n",
    "batch_size_pretrain = 64\n",
    "\n",
    "# Fine tuning parameters\n",
    "learning_rate_tuning = 5e-5\n",
    "batch_size_tuning = 64\n",
    "tuning_steps = 3\n",
    "learning_rate_multiplier = 1/6\n",
    "val_size = 0.2"
   ]
  },
  {
   "cell_type": "markdown",
   "metadata": {
    "id": "wMzFOQ4dA26Z"
   },
   "source": [
    "# Model build"
   ]
  },
  {
   "cell_type": "code",
   "execution_count": null,
   "metadata": {
    "execution": {
     "iopub.execute_input": "2024-11-20T14:00:42.120858Z",
     "iopub.status.busy": "2024-11-20T14:00:42.120477Z",
     "iopub.status.idle": "2024-11-20T14:00:53.888527Z",
     "shell.execute_reply": "2024-11-20T14:00:53.887710Z",
     "shell.execute_reply.started": "2024-11-20T14:00:42.120833Z"
    },
    "executionInfo": {
     "elapsed": 5502,
     "status": "ok",
     "timestamp": 1731589571305,
     "user": {
      "displayName": "frank hosty",
      "userId": "03316752095098891997"
     },
     "user_tz": -60
    },
    "id": "wGCW25hEElrJ",
    "outputId": "245fd99b-7cbb-463c-854a-1746fedbd135"
   },
   "outputs": [],
   "source": [
    "now = datetime.now(pytz.timezone(\"Europe/Rome\")).strftime(\"Day: %Y-%m-%d - Time: %H:%M:%S\\n\")\n",
    "print(f\"\\033[1;94m{now}\\033[0m\")\n",
    "\n",
    "# Current problem parameters\n",
    "input_shape = [96, 96, 3]\n",
    "num_classes = 8\n",
    "\n",
    "# Load model with pre-trained weights (excluding top layers)\n",
    "base_model = base_model_type(\n",
    "    include_top=False,\n",
    "    weights=\"imagenet\",\n",
    "    input_shape=input_shape,\n",
    "    classes=num_classes,\n",
    "    classifier_activation=\"softmax\",\n",
    ")\n",
    "\n",
    "# Model blueprint\n",
    "inputs = tfkl.Input(shape=input_shape)\n",
    "x = base_model(inputs, training=False)\n",
    "x = tfkl.GlobalAveragePooling2D()(x)\n",
    "x = tfkl.Dense(neurons_first_dense_layer, activation='gelu')(x)\n",
    "x = tfkl.Dropout(0.2)(x)\n",
    "x = tfkl.Dense(neurons_second_dense_layer, activation='gelu')(x)\n",
    "x = tfkl.Dropout(0.2)(x)\n",
    "outputs = tfkl.Dense(num_classes, activation='softmax')(x)\n",
    "\n",
    "# Build the final model\n",
    "model = tf.keras.Model(inputs=inputs, outputs=outputs)\n",
    "\n",
    "# Compile the model with sparse categorical crossentropy loss\n",
    "model.compile(\n",
    "    optimizer=Lion(learning_rate=1e-5),\n",
    "    loss='sparse_categorical_crossentropy',\n",
    "    metrics=['accuracy']\n",
    ")\n",
    "\n",
    "# Display its architecture\n",
    "model.summary()\n",
    "# model.get_layer(base_model_name).summary()"
   ]
  },
  {
   "cell_type": "markdown",
   "metadata": {
    "id": "gajVolcOIY18"
   },
   "source": [
    "# Pre-training"
   ]
  },
  {
   "cell_type": "code",
   "execution_count": null,
   "metadata": {
    "execution": {
     "iopub.execute_input": "2024-11-20T14:00:57.798776Z",
     "iopub.status.busy": "2024-11-20T14:00:57.798235Z",
     "iopub.status.idle": "2024-11-20T14:08:33.424315Z",
     "shell.execute_reply": "2024-11-20T14:08:33.423227Z",
     "shell.execute_reply.started": "2024-11-20T14:00:57.798743Z"
    },
    "executionInfo": {
     "elapsed": 536057,
     "status": "ok",
     "timestamp": 1731543486810,
     "user": {
      "displayName": "frank hosty",
      "userId": "03316752095098891997"
     },
     "user_tz": -60
    },
    "id": "P9IPmVuOE-d7",
    "outputId": "2bb352d8-5615-49be-e786-0e3d76613881"
   },
   "outputs": [],
   "source": [
    "now = datetime.now(pytz.timezone(\"Europe/Rome\")).strftime(\"Day: %Y-%m-%d - Time: %H:%M:%S\\n\")\n",
    "print(f\"\\033[1;94m{now}\\033[0m\")\n",
    "\n",
    "# Dataset split\n",
    "validation, training = fold.split_set(data, starting=0, size=val_size)\n",
    "train_images, train_labels = training['images'], training['labels']\n",
    "val_images, val_labels = validation['images'], validation['labels']\n",
    "\n",
    "# Save checkpoint\n",
    "checkpoint = ModelCheckpoint(\n",
    "    model_dir + \"Topping.keras\",\n",
    "    save_best_only=True,\n",
    "    monitor='val_loss',\n",
    "    mode='min',\n",
    "    verbose=1\n",
    ")\n",
    "\n",
    "# Train only the top layers (freeze convolutional base layers)\n",
    "for layer in model.layers:\n",
    "    layer.trainable = True\n",
    "for layer in model.get_layer(base_model_name).layers:\n",
    "    layer.trainable = False\n",
    "\n",
    "# Recompile the model after freezing the convolutional layers\n",
    "model.compile(\n",
    "    optimizer = Lion(learning_rate=learning_rate_pretrain),\n",
    "    loss='sparse_categorical_crossentropy',\n",
    "    metrics=['accuracy']\n",
    ")\n",
    "\n",
    "# Train the model (only the top layers are trained at this stage)\n",
    "model.fit(\n",
    "    x=train_images,\n",
    "    y=train_labels,\n",
    "    validation_data=(val_images, val_labels),\n",
    "    epochs=20,\n",
    "    batch_size=batch_size_pretrain,\n",
    "    callbacks=[EarlyStopping(patience=3, restore_best_weights=True), checkpoint]\n",
    ")\n",
    "\n",
    "# Clear keras session to avoid memory build up\n",
    "tf.keras.backend.clear_session()\n",
    "print(\"Finish!\")"
   ]
  },
  {
   "cell_type": "markdown",
   "metadata": {
    "id": "T8gYserOIqba"
   },
   "source": [
    "# Fine tuning"
   ]
  },
  {
   "cell_type": "code",
   "execution_count": null,
   "metadata": {
    "execution": {
     "iopub.execute_input": "2024-11-20T16:26:02.347480Z",
     "iopub.status.busy": "2024-11-20T16:26:02.347131Z",
     "iopub.status.idle": "2024-11-20T16:35:15.404600Z",
     "shell.execute_reply": "2024-11-20T16:35:15.403480Z",
     "shell.execute_reply.started": "2024-11-20T16:26:02.347449Z"
    },
    "executionInfo": {
     "elapsed": 301469,
     "status": "ok",
     "timestamp": 1731589873201,
     "user": {
      "displayName": "frank hosty",
      "userId": "03316752095098891997"
     },
     "user_tz": -60
    },
    "id": "7MDVeiUwQeIJ",
    "outputId": "758e327a-5832-4368-b071-76bd1876f346"
   },
   "outputs": [],
   "source": [
    "now = datetime.now(pytz.timezone(\"Europe/Rome\")).strftime(\"Day: %Y-%m-%d - Time: %H:%M:%S\\n\")\n",
    "print(f\"\\033[1;94m{now}\\033[0m\")\n",
    "\n",
    "# Clear keras session to avoid memory build up\n",
    "tf.keras.backend.clear_session()\n",
    "\n",
    "# Load model\n",
    "model = load_model(model_dir + \"Topping.keras\")\n",
    "\n",
    "for ITERATION in range(1, tuning_steps+1):\n",
    "    print(f\"Iteration {ITERATION}/{tuning_steps}\")\n",
    "    \n",
    "    # Start by unfreezing all layers but the base model's\n",
    "    for layer in model.layers:\n",
    "        layer.trainable = True\n",
    "    model.get_layer(base_model_name).trainable = False\n",
    "    base_model_layers = model.get_layer(base_model_name).layers\n",
    "    total_layers = len(base_model_layers)\n",
    "    \n",
    "    # Dataset split\n",
    "    starting_image = (val_size * ITERATION) % 1\n",
    "    validation, training = fold.split_set(data, starting=starting_image, size=val_size)\n",
    "    \n",
    "    # Decide which layers to unfreeze\n",
    "    train_layer = int(total_layers * ITERATION/tuning_steps)\n",
    "    print(f\"Unfreezing layers {total_layers - train_layer}-{total_layers}\")\n",
    "    \n",
    "    # Unfreeze only last layers\n",
    "    for layer in base_model_layers[:-train_layer]:\n",
    "        layer.trainable = True\n",
    "    \n",
    "    # Recompile the model after unfreezing the convolutional layers\n",
    "    model.compile(\n",
    "        optimizer=Lion(\n",
    "            learning_rate=learning_rate_tuning * (learning_rate_multiplier ** (ITERATION-1))\n",
    "        ),\n",
    "        loss='sparse_categorical_crossentropy',\n",
    "        metrics=['accuracy']\n",
    "    )\n",
    "    \n",
    "    # Fine-tune the entire model (including the convolutional layers)\n",
    "    model.fit(\n",
    "        x=training['images'],\n",
    "        y=training['labels'],\n",
    "        validation_data=(validation['images'], validation['labels']),\n",
    "        epochs=1,\n",
    "        batch_size=batch_size_tuning,\n",
    "        callbacks=[EarlyStopping(patience=3, restore_best_weights=True)]\n",
    "    )\n",
    "\n",
    "model.save(model_dir + model_name + \".keras\",)\n",
    "print(\"Finish!\")"
   ]
  },
  {
   "cell_type": "markdown",
   "metadata": {
    "id": "6EUJCZU6IIJG"
   },
   "source": [
    "# Model Test"
   ]
  },
  {
   "cell_type": "code",
   "execution_count": null,
   "metadata": {
    "execution": {
     "iopub.execute_input": "2024-11-20T16:35:20.533186Z",
     "iopub.status.busy": "2024-11-20T16:35:20.532801Z",
     "iopub.status.idle": "2024-11-20T16:35:57.354790Z",
     "shell.execute_reply": "2024-11-20T16:35:57.353703Z",
     "shell.execute_reply.started": "2024-11-20T16:35:20.533151Z"
    },
    "executionInfo": {
     "elapsed": 208801,
     "status": "ok",
     "timestamp": 1731590127676,
     "user": {
      "displayName": "frank hosty",
      "userId": "03316752095098891997"
     },
     "user_tz": -60
    },
    "id": "5lUmd_iNIKna",
    "outputId": "2615154e-e3c2-480a-99c8-949bdc3da200"
   },
   "outputs": [],
   "source": [
    "now = datetime.now(pytz.timezone(\"Europe/Rome\")).strftime(\"Day: %Y-%m-%d - Time: %H:%M:%S\\n\")\n",
    "print(f\"\\033[1;94m{now}\\033[0m\")\n",
    "\n",
    "model = load_model(model_dir + model_name + \".keras\")\n",
    "test_loss, test_accuracy = model.evaluate(test_images, test_labels, verbose=1)\n",
    "print(f\"Main model: {model_name}\")\n",
    "print(f\"  Test Loss: {test_loss:.4f}\")\n",
    "print(f\"  Test Accuracy: {test_accuracy:.4f}\")"
   ]
  }
 ],
 "metadata": {
  "accelerator": "GPU",
  "colab": {
   "collapsed_sections": [
    "B6No-KjqbPAb",
    "fnk39HgI2j4A",
    "Xc2Da0c1fbVU",
    "r29hfm3aEn19",
    "Bc-c_LWaGJYi",
    "wMzFOQ4dA26Z"
   ],
   "gpuType": "T4",
   "provenance": [
    {
     "file_id": "1PyDscaMFlqzPOfAwbO-Vt4_yZPgOUCSe",
     "timestamp": 1731424920760
    }
   ]
  },
  "kaggle": {
   "accelerator": "gpu",
   "dataSources": [
    {
     "datasetId": 6089183,
     "sourceId": 9910300,
     "sourceType": "datasetVersion"
    },
    {
     "datasetId": 6089252,
     "sourceId": 9910409,
     "sourceType": "datasetVersion"
    },
    {
     "datasetId": 6128393,
     "sourceId": 9962849,
     "sourceType": "datasetVersion"
    },
    {
     "sourceId": 207425827,
     "sourceType": "kernelVersion"
    }
   ],
   "dockerImageVersionId": 30787,
   "isGpuEnabled": true,
   "isInternetEnabled": true,
   "language": "python",
   "sourceType": "notebook"
  },
  "kernelspec": {
   "display_name": "Python 3 (ipykernel)",
   "language": "python",
   "name": "python3"
  },
  "language_info": {
   "codemirror_mode": {
    "name": "ipython",
    "version": 3
   },
   "file_extension": ".py",
   "mimetype": "text/x-python",
   "name": "python",
   "nbconvert_exporter": "python",
   "pygments_lexer": "ipython3",
   "version": "3.12.3"
  }
 },
 "nbformat": 4,
 "nbformat_minor": 4
}
