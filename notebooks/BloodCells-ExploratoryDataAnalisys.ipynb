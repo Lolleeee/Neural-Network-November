{
 "cells": [
  {
   "cell_type": "markdown",
   "metadata": {
    "id": "a8iPBbQGL_5P"
   },
   "source": [
    "## Imports"
   ]
  },
  {
   "cell_type": "code",
   "execution_count": null,
   "metadata": {
    "colab": {
     "base_uri": "https://localhost:8080/"
    },
    "id": "R6jcMULX3lW1",
    "outputId": "c86284f8-6562-4f2f-d1dc-4766eae5c428"
   },
   "outputs": [],
   "source": [
    "from google.colab import drive\n",
    "drive.mount('/content/drive', force_remount=True)\n",
    "%cd /content/drive/My Drive/ANNDL-24"
   ]
  },
  {
   "cell_type": "code",
   "execution_count": null,
   "metadata": {
    "id": "JlVhD5VE31QM"
   },
   "outputs": [],
   "source": [
    "import numpy as np\n",
    "import tensorflow as tf\n",
    "from tensorflow import keras as tfk\n",
    "from tensorflow.keras import layers as tfkl\n",
    "import matplotlib.pyplot as plt\n",
    "import seaborn as sns"
   ]
  },
  {
   "cell_type": "code",
   "execution_count": null,
   "metadata": {
    "id": "ObreiO-d4S3p"
   },
   "outputs": [],
   "source": [
    "data = np.load(\"/content/drive/MyDrive/[2024-2025] AN2DL/Homework 1/training_set.npz\")\n",
    "images = data['images']\n",
    "labels = data['labels']\n",
    "print(f\"images shape: {images.shape} \\n\")\n",
    "print(f\"labels shape: {labels.shape}\")"
   ]
  },
  {
   "cell_type": "markdown",
   "metadata": {
    "id": "axu4FbG5GGrU"
   },
   "source": [
    "## Original dataset stats and samples"
   ]
  },
  {
   "cell_type": "code",
   "execution_count": null,
   "metadata": {
    "colab": {
     "base_uri": "https://localhost:8080/",
     "height": 1000
    },
    "id": "KFL1LT755hHk",
    "outputId": "9b19c75f-5bd4-4868-c075-439ddb1c1098"
   },
   "outputs": [],
   "source": [
    "# Dictionary mapping each label index to its name\n",
    "label_names = {\n",
    "    0: \"Basophil\",\n",
    "    1: \"Eosinophil\",\n",
    "    2: \"Erythroblast\",\n",
    "    3: \"IG\", #Immature granulocyte\n",
    "    4: \"Lymphocyte\",\n",
    "    5: \"Monocyte\",\n",
    "    6: \"Neutrophil\",\n",
    "    7: \"Platelet\"\n",
    "}\n",
    "\n",
    "# Function to display sample images with label names and indices, with optional randomness\n",
    "def show_sample_images(images, labels, num_samples=5, random=True, start_index=0):\n",
    "    unique_labels = np.unique(labels)\n",
    "\n",
    "    plt.figure(figsize=(15, 2 * len(unique_labels)))\n",
    "\n",
    "    for i, label in enumerate(unique_labels):\n",
    "        # Get indices of images with the current label\n",
    "        label_indices = np.where(labels.flatten() == label)[0]\n",
    "\n",
    "        if random:\n",
    "            # Randomly select indices from this label if random is True\n",
    "            selected_indices = np.random.choice(label_indices, num_samples, replace=False)\n",
    "        else:\n",
    "            # Select indices sequentially starting from `start_index` if random is False\n",
    "            selected_indices = label_indices[start_index:start_index + num_samples]\n",
    "\n",
    "        for j, idx in enumerate(selected_indices):\n",
    "            plt.subplot(len(unique_labels), num_samples, i * num_samples + j + 1)\n",
    "            plt.imshow(images[idx])\n",
    "            plt.title(f\"{label_names[label]}-{idx}\")\n",
    "            plt.axis(\"off\")\n",
    "\n",
    "    plt.tight_layout()\n",
    "    plt.show()\n",
    "\n",
    "# Without randomness, starting at index 10\n",
    "show_sample_images(images, labels, num_samples=10, random=True)"
   ]
  },
  {
   "cell_type": "code",
   "execution_count": null,
   "metadata": {
    "colab": {
     "base_uri": "https://localhost:8080/",
     "height": 620
    },
    "id": "jZK_ZtjZ57o8",
    "outputId": "14b9acee-bae1-41e3-f3ac-0b09a4b7cb4d"
   },
   "outputs": [],
   "source": [
    "# Flatten labels and map them to their names\n",
    "labels_flat = labels.flatten()\n",
    "labels_named = [label_names[label] for label in labels_flat]\n",
    "\n",
    "# Plot the label distribution with names\n",
    "plt.figure(figsize=(12, 6))\n",
    "sns.countplot(x=labels_named, order=label_names.values())\n",
    "plt.title(\"Label Distribution\")\n",
    "plt.xlabel(\"Cell Types\")\n",
    "plt.ylabel(\"Count\")\n",
    "plt.xticks(rotation=45)\n",
    "plt.show()"
   ]
  },
  {
   "cell_type": "markdown",
   "metadata": {
    "id": "i_qKGaU3F4o6"
   },
   "source": [
    "## Remove outliers"
   ]
  },
  {
   "cell_type": "code",
   "execution_count": null,
   "metadata": {
    "colab": {
     "base_uri": "https://localhost:8080/"
    },
    "id": "0uLKgzE6BTE8",
    "outputId": "affc3100-1cdc-4045-8077-78c15c8be582"
   },
   "outputs": [],
   "source": [
    "# Define the two images to be removed (assuming they're NumPy arrays)\n",
    "target_image1 = images[12643]  # Load or define the first repeated image as a NumPy array\n",
    "target_image2 = images[13609]  # Load or define the second repeated image as a NumPy array\n",
    "\n",
    "# Find indices of all occurrences of target_image1 and target_image2\n",
    "indices_to_remove = []\n",
    "\n",
    "for i in range(len(images)):\n",
    "    if np.array_equal(images[i], target_image1) or np.array_equal(images[i], target_image2):\n",
    "        indices_to_remove.append(i)\n",
    "\n",
    "# Convert indices to a set for efficient removal\n",
    "indices_to_remove = set(indices_to_remove)\n",
    "\n",
    "# Filter out the images and labels at these indices\n",
    "images_filtered = np.array([img for idx, img in enumerate(images) if idx not in indices_to_remove])\n",
    "labels_filtered = np.array([lbl for idx, lbl in enumerate(labels) if idx not in indices_to_remove])\n",
    "\n",
    "# Check the new shapes\n",
    "print(\"Original images shape:\", images.shape)\n",
    "print(\"Filtered images shape:\", images_filtered.shape)\n",
    "print(\"Original labels shape:\", labels.shape)\n",
    "print(\"Filtered labels shape:\", labels_filtered.shape)"
   ]
  },
  {
   "cell_type": "markdown",
   "metadata": {
    "id": "Mn1MMHTLFwL5"
   },
   "source": [
    "## Display filtered samples"
   ]
  },
  {
   "cell_type": "code",
   "execution_count": null,
   "metadata": {
    "colab": {
     "base_uri": "https://localhost:8080/",
     "height": 1000
    },
    "id": "ky4G8VczDxoO",
    "outputId": "18ed1006-db11-4b57-968f-2d226ccabc9b"
   },
   "outputs": [],
   "source": [
    "show_sample_images(images_filtered, labels_filtered, num_samples=10, random=True)"
   ]
  },
  {
   "cell_type": "code",
   "execution_count": null,
   "metadata": {
    "colab": {
     "base_uri": "https://localhost:8080/",
     "height": 620
    },
    "id": "aTYqzRFqFJP4",
    "outputId": "532bfdfd-1872-4b6d-9219-41048832ce8e"
   },
   "outputs": [],
   "source": [
    "# Flatten labels and map them to their names\n",
    "labels_flat = labels_filtered.flatten()\n",
    "labels_named = [label_names[label] for label in labels_flat]\n",
    "\n",
    "# Plot the label distribution with names\n",
    "plt.figure(figsize=(12, 6))\n",
    "sns.countplot(x=labels_named, order=label_names.values())\n",
    "plt.title(\"FILTERED Label Distribution\")\n",
    "plt.xlabel(\"Cell Types\")\n",
    "plt.ylabel(\"Count\")\n",
    "plt.xticks(rotation=45)\n",
    "plt.show()"
   ]
  },
  {
   "cell_type": "markdown",
   "metadata": {
    "id": "_hAVP2TGGQUy"
   },
   "source": [
    "## Save filtered dataset"
   ]
  },
  {
   "cell_type": "code",
   "execution_count": null,
   "metadata": {
    "id": "HpRQPQFFEAoP"
   },
   "outputs": [],
   "source": [
    "dataset_filtered = {\"images\": images_filtered, \"labels\": labels_filtered}\n",
    "np.savez(\"/gdrive/MyDrive/NNN_ANNDL/Datasets/dataset_filtered.npz\", **dataset_filtered)"
   ]
  }
 ],
 "metadata": {
  "colab": {
   "collapsed_sections": [
    "a8iPBbQGL_5P",
    "Mn1MMHTLFwL5"
   ],
   "provenance": []
  },
  "kernelspec": {
   "display_name": "Python 3 (ipykernel)",
   "language": "python",
   "name": "python3"
  },
  "language_info": {
   "codemirror_mode": {
    "name": "ipython",
    "version": 3
   },
   "file_extension": ".py",
   "mimetype": "text/x-python",
   "name": "python",
   "nbconvert_exporter": "python",
   "pygments_lexer": "ipython3",
   "version": "3.13.2"
  }
 },
 "nbformat": 4,
 "nbformat_minor": 4
}
