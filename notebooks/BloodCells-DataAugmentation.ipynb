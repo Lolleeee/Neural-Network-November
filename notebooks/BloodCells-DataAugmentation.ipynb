{
 "cells": [
  {
   "cell_type": "markdown",
   "metadata": {},
   "source": [
    "# Set up"
   ]
  },
  {
   "cell_type": "code",
   "execution_count": null,
   "metadata": {
    "colab": {
     "base_uri": "https://localhost:8080/"
    },
    "execution": {
     "iopub.execute_input": "2024-11-20T13:45:40.359633Z",
     "iopub.status.busy": "2024-11-20T13:45:40.359227Z",
     "iopub.status.idle": "2024-11-20T13:45:57.721122Z",
     "shell.execute_reply": "2024-11-20T13:45:57.720012Z",
     "shell.execute_reply.started": "2024-11-20T13:45:40.359602Z"
    },
    "executionInfo": {
     "elapsed": 20484,
     "status": "ok",
     "timestamp": 1731593497070,
     "user": {
      "displayName": "Francesco Ostidich",
      "userId": "15729008217466679251"
     },
     "user_tz": -60
    },
    "id": "ro1qHUu5dxaX",
    "outputId": "e47074be-24f4-4138-f28a-3362c9c98cf1"
   },
   "outputs": [],
   "source": [
    "import tensorflow as tf\n",
    "import tensorflow.keras as tfk\n",
    "import numpy as np\n",
    "import random\n",
    "\n",
    "import augmentation as augh\n",
    "import plotter as plot\n",
    "import folding as fold\n",
    "\n",
    "print(\"Libraries have been imported\")"
   ]
  },
  {
   "cell_type": "markdown",
   "metadata": {},
   "source": [
    "# Test set split"
   ]
  },
  {
   "cell_type": "code",
   "execution_count": null,
   "metadata": {
    "execution": {
     "iopub.execute_input": "2024-11-14T22:23:57.315013Z",
     "iopub.status.busy": "2024-11-14T22:23:57.314572Z",
     "iopub.status.idle": "2024-11-14T22:23:59.347560Z",
     "shell.execute_reply": "2024-11-14T22:23:59.345995Z",
     "shell.execute_reply.started": "2024-11-14T22:23:57.314976Z"
    }
   },
   "outputs": [],
   "source": [
    "data_set = np.load(\"/kaggle/input/bloodcells-filtered/dataset_filtered.npz\")\n",
    "test_set, free_set = fold.split_set(data_set, count=150, shuffle=False)\n",
    "\n",
    "print(f\"Data set: {data_set['images'].dtype}{data_set['images'].shape} - {data_set['labels'].dtype}{data_set['labels'].shape}\")\n",
    "print(f\"Test set: {test_set['images'].dtype}{test_set['images'].shape} - {test_set['labels'].dtype}{test_set['labels'].shape}\")\n",
    "print(f\"Free set: {free_set['images'].dtype}{free_set['images'].shape} - {free_set['labels'].dtype}{free_set['labels'].shape}\")\n",
    "\n",
    "np.savez(\"dataset_test.npz\", **test_set)\n",
    "np.savez(\"dataset_free.npz\", **free_set)"
   ]
  },
  {
   "cell_type": "markdown",
   "metadata": {},
   "source": [
    "# Free dataset import"
   ]
  },
  {
   "cell_type": "code",
   "execution_count": null,
   "metadata": {
    "colab": {
     "base_uri": "https://localhost:8080/"
    },
    "execution": {
     "iopub.execute_input": "2024-11-20T13:46:34.236828Z",
     "iopub.status.busy": "2024-11-20T13:46:34.236416Z",
     "iopub.status.idle": "2024-11-20T13:46:39.267122Z",
     "shell.execute_reply": "2024-11-20T13:46:39.266077Z",
     "shell.execute_reply.started": "2024-11-20T13:46:34.236792Z"
    },
    "executionInfo": {
     "elapsed": 6110,
     "status": "ok",
     "timestamp": 1731593503169,
     "user": {
      "displayName": "Francesco Ostidich",
      "userId": "15729008217466679251"
     },
     "user_tz": -60
    },
    "id": "PDozi6kbui6l",
    "outputId": "6d2cabf4-ef77-4394-8d6a-bbabe7eed7b3"
   },
   "outputs": [],
   "source": [
    "data = np.load(\"/kaggle/input/bloodcells-free/dataset_free.npz\")\n",
    "# data = np.load(\"/kaggle/input/bloodcells-filtered/dataset_filtered.npz\")\n",
    "\n",
    "images = data['images']\n",
    "labels = data['labels']\n",
    "print(f\"images: {images.dtype}{images.shape}\")\n",
    "print(f\"labels: {labels.dtype}{labels.shape}\")"
   ]
  },
  {
   "cell_type": "markdown",
   "metadata": {},
   "source": [
    "# Example augmentation"
   ]
  },
  {
   "cell_type": "code",
   "execution_count": null,
   "metadata": {
    "colab": {
     "base_uri": "https://localhost:8080/",
     "height": 126
    },
    "execution": {
     "iopub.execute_input": "2024-11-20T10:36:29.252050Z",
     "iopub.status.busy": "2024-11-20T10:36:29.251640Z",
     "iopub.status.idle": "2024-11-20T10:36:29.553444Z",
     "shell.execute_reply": "2024-11-20T10:36:29.552535Z",
     "shell.execute_reply.started": "2024-11-20T10:36:29.252014Z"
    },
    "executionInfo": {
     "elapsed": 1275,
     "status": "ok",
     "timestamp": 1731539083518,
     "user": {
      "displayName": "Francesco Ostidich",
      "userId": "15729008217466679251"
     },
     "user_tz": -60
    },
    "id": "aXQtrv4G2cJ0",
    "outputId": "c904eed3-59ce-4187-8471-d327b5635259"
   },
   "outputs": [],
   "source": [
    "image = random.choice(images)\n",
    "augmented_image = augh.augment(image)\n",
    "\n",
    "print(f\"input image: {image.dtype}{image.shape}\")\n",
    "print(f\"output image: {augmented_image.dtype}{augmented_image.shape}\")\n",
    "print(f\"input image range: ({image.min()}, {image.max()})\")\n",
    "print(f\"output image range: ({augmented_image.min()}, {augmented_image.max()})\")\n",
    "\n",
    "plot.plot_image(image, augmented_image)"
   ]
  },
  {
   "cell_type": "markdown",
   "metadata": {},
   "source": [
    "# Augment dataset"
   ]
  },
  {
   "cell_type": "code",
   "execution_count": null,
   "metadata": {
    "colab": {
     "base_uri": "https://localhost:8080/"
    },
    "execution": {
     "iopub.execute_input": "2024-11-20T13:46:04.034313Z",
     "iopub.status.busy": "2024-11-20T13:46:04.033196Z",
     "iopub.status.idle": "2024-11-20T13:46:04.041597Z",
     "shell.execute_reply": "2024-11-20T13:46:04.040435Z",
     "shell.execute_reply.started": "2024-11-20T13:46:04.034237Z"
    },
    "executionInfo": {
     "elapsed": 3395715,
     "status": "ok",
     "timestamp": 1731542484408,
     "user": {
      "displayName": "Francesco Ostidich",
      "userId": "15729008217466679251"
     },
     "user_tz": -60
    },
    "id": "_SSDJHQTCsZZ",
    "outputId": "33dd13da-d612-470a-9068-76d3c158817e"
   },
   "outputs": [],
   "source": [
    "augmented_data = augh.augment_set(data, top=5000)"
   ]
  },
  {
   "cell_type": "markdown",
   "metadata": {},
   "source": [
    "# Export dataset"
   ]
  },
  {
   "cell_type": "code",
   "execution_count": null,
   "metadata": {
    "execution": {
     "iopub.execute_input": "2024-11-20T11:53:29.450523Z",
     "iopub.status.busy": "2024-11-20T11:53:29.450106Z",
     "iopub.status.idle": "2024-11-20T11:53:31.540298Z",
     "shell.execute_reply": "2024-11-20T11:53:31.539134Z",
     "shell.execute_reply.started": "2024-11-20T11:53:29.450489Z"
    },
    "id": "WgV5URb5-v4b"
   },
   "outputs": [],
   "source": [
    "np.savez(\"dataset_evaluation.npz\", **augmented_data)\n",
    "# np.savez(\"dataset_maximisation.npz\", **augmented_data)"
   ]
  },
  {
   "cell_type": "markdown",
   "metadata": {},
   "source": [
    "# Show dataset distribution"
   ]
  },
  {
   "cell_type": "code",
   "execution_count": null,
   "metadata": {
    "colab": {
     "base_uri": "https://localhost:8080/",
     "height": 578
    },
    "execution": {
     "iopub.execute_input": "2024-11-20T13:46:55.144349Z",
     "iopub.status.busy": "2024-11-20T13:46:55.143565Z",
     "iopub.status.idle": "2024-11-20T13:46:57.135269Z",
     "shell.execute_reply": "2024-11-20T13:46:57.134223Z",
     "shell.execute_reply.started": "2024-11-20T13:46:55.144311Z"
    },
    "executionInfo": {
     "elapsed": 612,
     "status": "ok",
     "timestamp": 1731542494452,
     "user": {
      "displayName": "Francesco Ostidich",
      "userId": "15729008217466679251"
     },
     "user_tz": -60
    },
    "id": "AHHaraQMApJr",
    "outputId": "fb1e6d94-a197-456d-8242-28d5f82a27d4"
   },
   "outputs": [],
   "source": [
    "augmented_images = augmented_data['images']\n",
    "augmented_labels = augmented_data['labels']\n",
    "\n",
    "print(f\"original dataset images: {images.dtype}{images.shape}\")\n",
    "print(f\"augmented dataset images: {augmented_images.dtype}{augmented_images.shape}\")\n",
    "print(f\"original dataset labels: {labels.dtype}{labels.shape}\")\n",
    "print(f\"augmented dataset labels: {augmented_labels.dtype}{augmented_labels.shape}\")\n",
    "\n",
    "plot.plot_distribution(data['labels'], augmented_data['labels'])"
   ]
  },
  {
   "cell_type": "markdown",
   "metadata": {},
   "source": [
    "# Print some images"
   ]
  },
  {
   "cell_type": "code",
   "execution_count": null,
   "metadata": {
    "colab": {
     "base_uri": "https://localhost:8080/",
     "height": 1000
    },
    "execution": {
     "iopub.execute_input": "2024-11-20T13:47:13.244894Z",
     "iopub.status.busy": "2024-11-20T13:47:13.243183Z",
     "iopub.status.idle": "2024-11-20T13:47:18.060016Z",
     "shell.execute_reply": "2024-11-20T13:47:18.059007Z",
     "shell.execute_reply.started": "2024-11-20T13:47:13.244854Z"
    },
    "executionInfo": {
     "elapsed": 6052,
     "status": "ok",
     "timestamp": 1731542505740,
     "user": {
      "displayName": "Francesco Ostidich",
      "userId": "15729008217466679251"
     },
     "user_tz": -60
    },
    "id": "fI-854M0Kbk0",
    "outputId": "622a37ee-7cc7-49c7-d745-79e61b56d166"
   },
   "outputs": [],
   "source": [
    "plot.print_example_images(augmented_images, augmented_labels, row=4)"
   ]
  },
  {
   "cell_type": "markdown",
   "metadata": {},
   "source": [
    "# Split dataset"
   ]
  },
  {
   "cell_type": "code",
   "execution_count": null,
   "metadata": {
    "execution": {
     "iopub.execute_input": "2024-11-15T00:07:24.067339Z",
     "iopub.status.busy": "2024-11-15T00:07:24.066878Z",
     "iopub.status.idle": "2024-11-15T00:07:24.457804Z",
     "shell.execute_reply": "2024-11-15T00:07:24.456680Z",
     "shell.execute_reply.started": "2024-11-15T00:07:24.067294Z"
    },
    "id": "qEHc-oTyrJfa"
   },
   "outputs": [],
   "source": [
    "validation, training = fold.split_set(augmented_data)"
   ]
  },
  {
   "cell_type": "markdown",
   "metadata": {},
   "source": [
    "# Show datasets distributions after split"
   ]
  },
  {
   "cell_type": "code",
   "execution_count": null,
   "metadata": {
    "colab": {
     "base_uri": "https://localhost:8080/",
     "height": 279
    },
    "execution": {
     "iopub.execute_input": "2024-11-15T00:07:31.372887Z",
     "iopub.status.busy": "2024-11-15T00:07:31.371620Z",
     "iopub.status.idle": "2024-11-15T00:07:32.277911Z",
     "shell.execute_reply": "2024-11-15T00:07:32.276698Z",
     "shell.execute_reply.started": "2024-11-15T00:07:31.372825Z"
    },
    "executionInfo": {
     "elapsed": 1238,
     "status": "ok",
     "timestamp": 1731423576705,
     "user": {
      "displayName": "Francesco Ostidich",
      "userId": "15729008217466679251"
     },
     "user_tz": -60
    },
    "id": "fXBUY7H_l4H6",
    "jupyter": {
     "outputs_hidden": true
    },
    "outputId": "c89ceeb5-2a1f-4b1e-a705-e5dd35d600c6"
   },
   "outputs": [],
   "source": [
    "val_images = validation['images']\n",
    "val_labels = validation['labels']\n",
    "train_images = training['images']\n",
    "train_labels = training['labels']\n",
    "\n",
    "print(f\"original dataset images: {images.dtype}{images.shape}\")\n",
    "print(f\"validation dataset images: {val_images.dtype}{val_images.shape}\")\n",
    "print(f\"training dataset images: {train_images.dtype}{train_images.shape}\")\n",
    "print(f\"original dataset labels: {labels.dtype}{labels.shape}\")\n",
    "print(f\"validation dataset labels: {val_labels.dtype}{val_labels.shape}\")\n",
    "print(f\"training dataset labels: {train_labels.dtype}{train_labels.shape}\")\n",
    "\n",
    "plot.plot_distribution(data['labels'], augmented_data['labels'], validation['labels'], training['labels'])"
   ]
  },
  {
   "cell_type": "markdown",
   "metadata": {},
   "source": [
    "# Print example images after split"
   ]
  },
  {
   "cell_type": "code",
   "execution_count": null,
   "metadata": {
    "colab": {
     "base_uri": "https://localhost:8080/",
     "height": 1000
    },
    "execution": {
     "iopub.execute_input": "2024-11-15T00:07:46.611592Z",
     "iopub.status.busy": "2024-11-15T00:07:46.611110Z",
     "iopub.status.idle": "2024-11-15T00:08:06.222107Z",
     "shell.execute_reply": "2024-11-15T00:08:06.220838Z",
     "shell.execute_reply.started": "2024-11-15T00:07:46.611551Z"
    },
    "executionInfo": {
     "elapsed": 21128,
     "status": "ok",
     "timestamp": 1731421812236,
     "user": {
      "displayName": "Francesco Ostidich",
      "userId": "15729008217466679251"
     },
     "user_tz": -60
    },
    "id": "hHBL1MbBjyp3",
    "outputId": "248c3241-0f5a-493f-a1fa-451032214b64"
   },
   "outputs": [],
   "source": [
    "print(\"VALIDATION\")\n",
    "plot.print_example_images(validation['images'], validation['labels'])\n",
    "print(\"TRAINING\")\n",
    "plot.print_example_images(training['images'], training['labels'])"
   ]
  }
 ],
 "metadata": {
  "colab": {
   "collapsed_sections": [
    "Bc-c_LWaGJYi"
   ],
   "provenance": []
  },
  "kaggle": {
   "accelerator": "none",
   "dataSources": [
    {
     "datasetId": 6088941,
     "sourceId": 9909951,
     "sourceType": "datasetVersion"
    },
    {
     "datasetId": 6088945,
     "sourceId": 9909958,
     "sourceType": "datasetVersion"
    },
    {
     "datasetId": 6088949,
     "sourceId": 9909963,
     "sourceType": "datasetVersion"
    },
    {
     "datasetId": 6128393,
     "sourceId": 9962849,
     "sourceType": "datasetVersion"
    },
    {
     "sourceId": 207420426,
     "sourceType": "kernelVersion"
    },
    {
     "sourceId": 207425827,
     "sourceType": "kernelVersion"
    },
    {
     "sourceId": 207445750,
     "sourceType": "kernelVersion"
    }
   ],
   "dockerImageVersionId": 30786,
   "isGpuEnabled": false,
   "isInternetEnabled": false,
   "language": "python",
   "sourceType": "notebook"
  },
  "kernelspec": {
   "display_name": "Python 3 (ipykernel)",
   "language": "python",
   "name": "python3"
  },
  "language_info": {
   "codemirror_mode": {
    "name": "ipython",
    "version": 3
   },
   "file_extension": ".py",
   "mimetype": "text/x-python",
   "name": "python",
   "nbconvert_exporter": "python",
   "pygments_lexer": "ipython3",
   "version": "3.12.3"
  }
 },
 "nbformat": 4,
 "nbformat_minor": 4
}
